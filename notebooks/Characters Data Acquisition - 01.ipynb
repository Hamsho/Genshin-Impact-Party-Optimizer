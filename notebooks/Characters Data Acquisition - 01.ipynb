{
 "cells": [
  {
   "cell_type": "markdown",
   "metadata": {},
   "source": [
    "# Characters Data Acquisition"
   ]
  },
  {
   "cell_type": "markdown",
   "metadata": {},
   "source": [
    "This notebook fetches a JSON file with data of Genshin Impacts' Characters. It uses a free fan-made API: https://github.com/genshindev/api\n",
    "\n",
    "And exports it in a tabular format suitable for consumption by Pandas."
   ]
  },
  {
   "cell_type": "code",
   "execution_count": null,
   "metadata": {},
   "outputs": [],
   "source": [
    "import json\n",
    "import requests\n",
    "\n",
    "import numpy as np\n",
    "import pandas as pd\n",
    "pd.set_option('display.max_columns', None)\n",
    "\n",
    "from pathlib import Path\n",
    "\n",
    "from typing import *\n",
    "from numpy.typing import NDArray"
   ]
  },
  {
   "cell_type": "code",
   "execution_count": null,
   "metadata": {},
   "outputs": [],
   "source": [
    "DATA_DIR = Path('../data')"
   ]
  },
  {
   "cell_type": "markdown",
   "metadata": {},
   "source": [
    "# Data Fetching"
   ]
  },
  {
   "cell_type": "code",
   "execution_count": null,
   "metadata": {},
   "outputs": [],
   "source": [
    "print('#--------------------------#')\n",
    "print('| Fetching Characters Data |')\n",
    "print('#--------------------------#')\n",
    "print('')\n",
    "\n",
    "response = requests.get('https://genshin.jmp.blue/characters/all')\n",
    "\n",
    "print('Status Code:', response.status_code)\n",
    "assert response.status_code == 200\n",
    "\n",
    "print(f'Content Type:', response.headers.get('Content-Type'))\n",
    "assert 'application/json' in response.headers.get('Content-Type', '')\n",
    "\n",
    "print(f'Response Size: {len(response.content) / 1024:.1f} kB')\n",
    "data = response.json()\n",
    "\n",
    "print('')\n",
    "print('#-----------------------------------#')\n",
    "print('| Fetched Characters Successfully ✓ |')\n",
    "print('#-----------------------------------#')\n",
    "print('')\n",
    "\n",
    "print('Total Characters:', len(data))"
   ]
  },
  {
   "cell_type": "markdown",
   "metadata": {},
   "source": [
    "# Subtables Creation"
   ]
  },
  {
   "cell_type": "code",
   "execution_count": null,
   "metadata": {},
   "outputs": [],
   "source": [
    "data_skills = [] # skills_talents\n",
    "data_upgrades = [] # skills_talents_upgrades\n",
    "data_passive = [] # passive_talents\n",
    "data_constillations = [] # constillations\n",
    "data_outfits = [] # outfits\n",
    "\n",
    "for character in data:\n",
    "    for skill in character['skillTalents']:\n",
    "        data_skills.append({'character': character['id'], **skill})\n",
    "        for upgrade in skill.get('upgrades', []):\n",
    "            data_upgrades.append({'character': character['id'], 'type': skill.get('type', 'RIGHT_CLICK'), **upgrade})\n",
    "    \n",
    "    for skill in character['passiveTalents']:\n",
    "        data_passive.append({'character': character['id'], **skill})\n",
    "\n",
    "    for constillation in character['constellations']:\n",
    "        data_constillations.append({'character': character['id'], **constillation})\n",
    "\n",
    "    for outfit in character.get('outfits', []):\n",
    "        data_outfits.append({'character': character['id'], **outfit})"
   ]
  },
  {
   "cell_type": "markdown",
   "metadata": {},
   "source": [
    "# DataFrames Creation"
   ]
  },
  {
   "cell_type": "markdown",
   "metadata": {},
   "source": [
    "## Characters"
   ]
  },
  {
   "cell_type": "code",
   "execution_count": null,
   "metadata": {},
   "outputs": [],
   "source": [
    "df_characters = pd.DataFrame(data)\n",
    "df_characters.set_index('id', inplace=True)\n",
    "df_characters.drop(columns=['skillTalents', 'passiveTalents', 'constellations', 'outfits'], inplace=True)\n",
    "df_characters['rarity'] = df_characters['rarity'].astype(np.int8)\n",
    "df_characters['release'] = pd.to_datetime(df_characters['release'], format='%Y-%m-%d', utc=True)\n",
    "for name in ['vision', 'weapon', 'gender', 'nation', 'affiliation', 'vision_key', 'weapon_type']:\n",
    "    df_characters[name] = df_characters[name].astype('category')"
   ]
  },
  {
   "cell_type": "markdown",
   "metadata": {},
   "source": [
    "## Skills Talents"
   ]
  },
  {
   "cell_type": "code",
   "execution_count": null,
   "metadata": {},
   "outputs": [],
   "source": [
    "df_skills = pd.DataFrame(data_skills)\n",
    "df_skills.drop(columns='upgrades', inplace=True)\n",
    "df_skills['unlock'] = df_skills['unlock'].str.title()\n",
    "df_skills['type'].fillna('RIGHT_CLICK')\n",
    "for name in ['character', 'unlock', 'type']:\n",
    "    df_skills[name] = df_skills[name].astype('category')\n",
    "df_skills.set_index(['character', 'name'], inplace=True)"
   ]
  },
  {
   "cell_type": "markdown",
   "metadata": {},
   "source": [
    "## Skills Talents Upgrades"
   ]
  },
  {
   "cell_type": "code",
   "execution_count": null,
   "metadata": {},
   "outputs": [],
   "source": [
    "df_upgrades = pd.DataFrame(data_upgrades)\n",
    "for name in ['character', 'type', 'name']:\n",
    "    df_upgrades[name] = df_upgrades[name].astype('category')\n",
    "df_upgrades.set_index(['character', 'type'], inplace=True)"
   ]
  },
  {
   "cell_type": "markdown",
   "metadata": {},
   "source": [
    "## Passive Talents"
   ]
  },
  {
   "cell_type": "code",
   "execution_count": null,
   "metadata": {},
   "outputs": [],
   "source": [
    "df_passive = pd.DataFrame(data_passive)\n",
    "for name in ['character', 'unlock']:\n",
    "    df_passive[name] = df_passive[name].astype('category')\n",
    "df_passive['level'] = df_passive['level'].dropna().astype(np.int8).astype('category')\n",
    "df_passive.set_index(['character', 'name'], inplace=True)"
   ]
  },
  {
   "cell_type": "markdown",
   "metadata": {},
   "source": [
    "## Constillations"
   ]
  },
  {
   "cell_type": "code",
   "execution_count": null,
   "metadata": {},
   "outputs": [],
   "source": [
    "df_constillations = pd.DataFrame(data_constillations)\n",
    "df_constillations['level'] = df_constillations['level'].astype(np.int8)\n",
    "for name in ['character', 'unlock']:\n",
    "    df_constillations[name] = df_constillations[name].astype('category')\n",
    "df_constillations.set_index(['character', 'name'], inplace=True)"
   ]
  },
  {
   "cell_type": "markdown",
   "metadata": {},
   "source": [
    "## Outfits"
   ]
  },
  {
   "cell_type": "code",
   "execution_count": null,
   "metadata": {},
   "outputs": [],
   "source": [
    "df_outfits = pd.DataFrame(data_outfits)\n",
    "df_outfits['rarity'] = df_outfits['rarity'].astype(np.int8)\n",
    "for name in ['character', 'type']:\n",
    "    df_outfits[name] = df_outfits[name].astype('category')\n",
    "df_outfits.set_index(['character', 'name'], inplace=True)"
   ]
  },
  {
   "cell_type": "markdown",
   "metadata": {},
   "source": [
    "# DataFrames Preview"
   ]
  },
  {
   "cell_type": "markdown",
   "metadata": {},
   "source": [
    "## Characters"
   ]
  },
  {
   "cell_type": "code",
   "execution_count": null,
   "metadata": {},
   "outputs": [],
   "source": [
    "df_characters.head(2)"
   ]
  },
  {
   "cell_type": "markdown",
   "metadata": {},
   "source": [
    "## Skills Talents"
   ]
  },
  {
   "cell_type": "code",
   "execution_count": null,
   "metadata": {},
   "outputs": [],
   "source": [
    "df_skills.head(2)"
   ]
  },
  {
   "cell_type": "markdown",
   "metadata": {},
   "source": [
    "## Skills Talents Upgrades"
   ]
  },
  {
   "cell_type": "code",
   "execution_count": null,
   "metadata": {},
   "outputs": [],
   "source": [
    "df_upgrades.head(2)"
   ]
  },
  {
   "cell_type": "markdown",
   "metadata": {},
   "source": [
    "## Passive Talents"
   ]
  },
  {
   "cell_type": "code",
   "execution_count": null,
   "metadata": {},
   "outputs": [],
   "source": [
    "df_passive.head(2)"
   ]
  },
  {
   "cell_type": "markdown",
   "metadata": {},
   "source": [
    "## Constillations"
   ]
  },
  {
   "cell_type": "code",
   "execution_count": null,
   "metadata": {},
   "outputs": [],
   "source": [
    "df_constillations.head(2)"
   ]
  },
  {
   "cell_type": "markdown",
   "metadata": {},
   "source": [
    "## Outfits"
   ]
  },
  {
   "cell_type": "code",
   "execution_count": null,
   "metadata": {},
   "outputs": [],
   "source": [
    "df_outfits.head(2)"
   ]
  },
  {
   "cell_type": "markdown",
   "metadata": {},
   "source": [
    "# DataFrames Export"
   ]
  },
  {
   "cell_type": "code",
   "execution_count": null,
   "metadata": {},
   "outputs": [],
   "source": [
    "for name in ['characters', 'skills', 'upgrades', 'passive', 'constillations', 'outfits']:\n",
    "    df = globals()[f'df_{name}']\n",
    "    path_csv = DATA_DIR.joinpath(f'genshin-{name}.csv')\n",
    "    path_parquet = DATA_DIR.joinpath(f'genshin-{name}.parquet')\n",
    "    \n",
    "    df.to_csv(path_csv)\n",
    "    print('Exported', path_csv)\n",
    "    df.to_parquet(path_parquet)\n",
    "    print('Exported', path_parquet)"
   ]
  }
 ],
 "metadata": {
  "kernelspec": {
   "display_name": "Python 3 (ipykernel)",
   "language": "python",
   "name": "python3"
  },
  "language_info": {
   "codemirror_mode": {
    "name": "ipython",
    "version": 3
   },
   "file_extension": ".py",
   "mimetype": "text/x-python",
   "name": "python",
   "nbconvert_exporter": "python",
   "pygments_lexer": "ipython3",
   "version": "3.11.4"
  }
 },
 "nbformat": 4,
 "nbformat_minor": 4
}
