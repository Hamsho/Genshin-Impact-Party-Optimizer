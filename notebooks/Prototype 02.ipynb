{
 "cells": [
  {
   "cell_type": "code",
   "execution_count": null,
   "id": "d20df9ba-70aa-4fab-87be-2d796cbd955b",
   "metadata": {},
   "outputs": [],
   "source": [
    "class Character(Fact):\n",
    "    pass\n",
    "\n",
    "class SimpleParty(KnowledgeEngine):\n",
    "    @DefFacts()\n",
    "    def _initial_facts(self):\n",
    "        yield Character(name='Itto', element='Geo',weapon='Claymore',skill='deals damage', burst='buffs Itto\\'s NAs and CAs', talentsource='DEF%')\n",
    "        yield Character(name='Yelan', element='Hydro',weapon='Bow',skill='deals damage', burst='initiates a coordinate attack', talentsource='HP%')\n",
    "        yield Character(name='Qiqi', element='Cryo',weapon='Sword',skill='heals the active character', burst='heals the active character ', talentsource='ATK%')\n",
    "        "
   ]
  }
 ],
 "metadata": {
  "kernelspec": {
   "display_name": "Python 3 (ipykernel)",
   "language": "python",
   "name": "python3"
  },
  "language_info": {
   "codemirror_mode": {
    "name": "ipython",
    "version": 3
   },
   "file_extension": ".py",
   "mimetype": "text/x-python",
   "name": "python",
   "nbconvert_exporter": "python",
   "pygments_lexer": "ipython3",
   "version": "3.11.4"
  }
 },
 "nbformat": 4,
 "nbformat_minor": 5
}
